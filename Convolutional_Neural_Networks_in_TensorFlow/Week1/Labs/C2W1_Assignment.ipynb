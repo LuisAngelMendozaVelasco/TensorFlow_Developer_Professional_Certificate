{
  "cells": [
    {
      "cell_type": "markdown",
      "id": "a10bc2ee",
      "metadata": {
        "id": "a10bc2ee"
      },
      "source": [
        "# Week 1: Using CNN's with the Cats vs Dogs Dataset\n",
        "\n",
        "<a target=\"_blank\" href=\"https://colab.research.google.com/github/LuisAngelMendozaVelasco/TensorFlow_Developer_Professional_Certificate/blob/master/Convolutional_Neural_Networks_in_TensorFlow/Week1/Labs/C2W1_Assignment.ipynb\"><img src=\"https://www.tensorflow.org/images/colab_logo_32px.png\">Run in Google Colab</a>\n",
        "\n",
        "Welcome to the 1st assignment of the course! This week, you will be using the famous `Cats vs Dogs` dataset to train a model that can classify images of dogs from images of cats. For this, you will create your own Convolutional Neural Network in Tensorflow and leverage Keras' image preprocessing utilities.\n",
        "\n",
        "You will also create some helper functions to move the images around the filesystem so if you are not familiar with the `os` module be sure to take a look a the [docs](https://docs.python.org/3/library/os.html).\n",
        "\n",
        "Let's get started!"
      ]
    },
    {
      "cell_type": "markdown",
      "id": "7dd65c4f",
      "metadata": {
        "id": "7dd65c4f"
      },
      "source": [
        "_**NOTE:** To prevent errors from the autograder, please avoid editing or deleting non-graded cells in this notebook . Please only put your solutions in between the `### START CODE HERE` and `### END CODE HERE` code comments, and refrain from adding any new cells._"
      ]
    },
    {
      "cell_type": "markdown",
      "id": "0000eebe",
      "metadata": {
        "id": "0000eebe"
      },
      "source": [
        "Download the dataset from its original source by running the cell below.\n",
        "\n",
        "Note that the `zip` file that contains the images is unzipped under the `/tmp` directory."
      ]
    },
    {
      "cell_type": "code",
      "execution_count": 1,
      "id": "dfe8528d",
      "metadata": {
        "colab": {
          "base_uri": "https://localhost:8080/"
        },
        "id": "dfe8528d",
        "lines_to_next_cell": 2,
        "outputId": "12544433-a8ee-4829-b3af-0a2bc5e2328c",
        "tags": []
      },
      "outputs": [],
      "source": [
        "%%bash\n",
        "\n",
        "# If the URL doesn't work, visit https://www.microsoft.com/en-us/download/confirmation.aspx?id=54765\n",
        "# And right click on the 'Download Manually' link to get a new URL to the dataset\n",
        "\n",
        "# Note: This is a very large dataset and will take some time to download\n",
        "\n",
        "mkdir data\n",
        "wget -q https://download.microsoft.com/download/3/E/1/3E1C3F21-ECDB-4869-8368-6DEBA77B919F/kagglecatsanddogs_5340.zip -O ./data/cats-and-dogs.zip"
      ]
    },
    {
      "cell_type": "code",
      "execution_count": 2,
      "id": "fb435cd2",
      "metadata": {},
      "outputs": [
        {
          "name": "stderr",
          "output_type": "stream",
          "text": [
            "2024-06-11 02:46:46.831127: I tensorflow/core/platform/cpu_feature_guard.cc:210] This TensorFlow binary is optimized to use available CPU instructions in performance-critical operations.\n",
            "To enable the following instructions: SSE4.1 SSE4.2 AVX AVX2 FMA, in other operations, rebuild TensorFlow with the appropriate compiler flags.\n"
          ]
        }
      ],
      "source": [
        "import os\n",
        "import zipfile\n",
        "import random\n",
        "import shutil\n",
        "from keras import layers, utils, Sequential, Input, optimizers\n",
        "import matplotlib.pyplot as plt\n",
        "import seaborn as sns\n",
        "import tensorflow as tf"
      ]
    },
    {
      "cell_type": "code",
      "execution_count": 3,
      "id": "872616e1",
      "metadata": {},
      "outputs": [],
      "source": [
        "local_zip = './data/cats-and-dogs.zip'\n",
        "zip_ref   = zipfile.ZipFile(local_zip, 'r')\n",
        "zip_ref.extractall(\"./data/\")\n",
        "zip_ref.close()"
      ]
    },
    {
      "cell_type": "markdown",
      "id": "4dd9f52b",
      "metadata": {
        "id": "4dd9f52b"
      },
      "source": [
        "Now the images are stored within the `/tmp/PetImages` directory. There is a subdirectory for each class, so one for dogs and one for cats."
      ]
    },
    {
      "cell_type": "code",
      "execution_count": 4,
      "id": "76034c9d",
      "metadata": {
        "colab": {
          "base_uri": "https://localhost:8080/"
        },
        "id": "76034c9d",
        "outputId": "749a6685-9495-4a6a-dd0b-cf8665bceae8"
      },
      "outputs": [
        {
          "name": "stdout",
          "output_type": "stream",
          "text": [
            "There are 12500 images of dogs.\n",
            "There are 12500 images of cats.\n"
          ]
        }
      ],
      "source": [
        "source_path = './data/PetImages'\n",
        "\n",
        "source_path_dogs = os.path.join(source_path, 'Dog')\n",
        "source_path_cats = os.path.join(source_path, 'Cat')\n",
        "\n",
        "# Deletes all non-image files (there are two .db files bundled into the dataset)\n",
        "!find ./data/PetImages/ -type f ! -name \"*.jpg\" -exec rm {} +\n",
        "\n",
        "# os.listdir returns a list containing all files under the given path\n",
        "print(f\"There are {len(os.listdir(source_path_dogs))} images of dogs.\")\n",
        "print(f\"There are {len(os.listdir(source_path_cats))} images of cats.\")"
      ]
    },
    {
      "cell_type": "markdown",
      "id": "1b32b528",
      "metadata": {
        "id": "1b32b528"
      },
      "source": [
        "**Expected Output:**\n",
        "\n",
        "```\n",
        "There are 12500 images of dogs.\n",
        "There are 12500 images of cats.\n",
        "```"
      ]
    },
    {
      "cell_type": "markdown",
      "id": "6753b45c",
      "metadata": {
        "id": "6753b45c"
      },
      "source": [
        "You will need a directory for cats-v-dogs, and subdirectories for training\n",
        "and validation. These in turn will need subdirectories for 'cats' and 'dogs'. To accomplish this, complete the `create_train_val_dirs` below:"
      ]
    },
    {
      "cell_type": "code",
      "execution_count": 5,
      "id": "1e6c840a",
      "metadata": {
        "cellView": "code",
        "id": "1e6c840a"
      },
      "outputs": [],
      "source": [
        "# Define root directory\n",
        "root_dir = './data/cats-v-dogs'\n",
        "\n",
        "# Empty directory to prevent FileExistsError is the function is run several times\n",
        "if os.path.exists(root_dir):\n",
        "    shutil.rmtree(root_dir)\n",
        "\n",
        "# GRADED FUNCTION: create_train_val_dirs\n",
        "def create_train_val_dirs(root_path):\n",
        "    \"\"\"\n",
        "    Creates directories for the train and test sets\n",
        "\n",
        "    Args:\n",
        "        root_path (string) - the base directory path to create subdirectories from\n",
        "\n",
        "    Returns:\n",
        "        None\n",
        "    \"\"\"\n",
        "    ### START CODE HERE\n",
        "\n",
        "    # HINT:\n",
        "    # Use os.makedirs to create your directories with intermediate subdirectories\n",
        "    # Don't hardcode the paths. Use os.path.join to append the new directories to the root_path parameter\n",
        "\n",
        "    os.makedirs(os.path.join(root_path, 'training'))\n",
        "    os.makedirs(os.path.join(f'{root_path}/training', 'dogs'))\n",
        "    os.makedirs(os.path.join(f'{root_path}/training', 'cats'))\n",
        "    os.makedirs(os.path.join(root_path, 'validation'))\n",
        "    os.makedirs(os.path.join(f'{root_path}/validation', 'dogs'))\n",
        "    os.makedirs(os.path.join(f'{root_path}/validation', 'cats'))\n",
        "    ### END CODE HERE\n",
        "\n",
        "try:\n",
        "    create_train_val_dirs(root_path=root_dir)\n",
        "except FileExistsError:\n",
        "    print(\"You should not be seeing this since the upper directory is removed beforehand\")"
      ]
    },
    {
      "cell_type": "code",
      "execution_count": 6,
      "id": "08f735fe",
      "metadata": {
        "colab": {
          "base_uri": "https://localhost:8080/"
        },
        "id": "08f735fe",
        "outputId": "be8feaff-6e41-4668-cfdb-e29268dc24a9"
      },
      "outputs": [
        {
          "name": "stdout",
          "output_type": "stream",
          "text": [
            "./data/cats-v-dogs/validation\n",
            "./data/cats-v-dogs/training\n",
            "./data/cats-v-dogs/validation/cats\n",
            "./data/cats-v-dogs/validation/dogs\n",
            "./data/cats-v-dogs/training/cats\n",
            "./data/cats-v-dogs/training/dogs\n"
          ]
        }
      ],
      "source": [
        "# Test your create_train_val_dirs function\n",
        "\n",
        "for rootdir, dirs, files in os.walk(root_dir):\n",
        "    for subdir in dirs:\n",
        "        print(os.path.join(rootdir, subdir))"
      ]
    },
    {
      "cell_type": "markdown",
      "id": "09e13d4e",
      "metadata": {
        "id": "09e13d4e"
      },
      "source": [
        "**Expected Output (directory order might vary):**\n",
        "\n",
        "``` txt\n",
        "/tmp/cats-v-dogs/training\n",
        "/tmp/cats-v-dogs/validation\n",
        "/tmp/cats-v-dogs/training/cats\n",
        "/tmp/cats-v-dogs/training/dogs\n",
        "/tmp/cats-v-dogs/validation/cats\n",
        "/tmp/cats-v-dogs/validation/dogs\n",
        "\n",
        "```"
      ]
    },
    {
      "cell_type": "markdown",
      "id": "9413f4e5",
      "metadata": {
        "id": "9413f4e5"
      },
      "source": [
        "Code the `split_data` function which takes in the following arguments:\n",
        "- SOURCE_DIR: directory containing the files\n",
        "\n",
        "- TRAINING_DIR: directory that a portion of the files will be copied to (will be used for training)\n",
        "- VALIDATION_DIR: directory that a portion of the files will be copied to (will be used for validation)\n",
        "- SPLIT_SIZE: determines the portion of images used for training.\n",
        "\n",
        "The files should be randomized, so that the training set is a random sample of the files, and the validation set is made up of the remaining files.\n",
        "\n",
        "For example, if `SOURCE_DIR` is `PetImages/Cat`, and `SPLIT_SIZE` is .9 then 90% of the images in `PetImages/Cat` will be copied to the `TRAINING_DIR` directory\n",
        "and 10% of the images will be copied to the `VALIDATION_DIR` directory.\n",
        "\n",
        "All images should be checked before the copy, so if they have a zero file length, they will be omitted from the copying process. If this is the case then your function should print out a message such as `\"filename is zero length, so ignoring.\"`. **You should perform this check before the split so that only non-zero images are considered when doing the actual split.**\n",
        "\n",
        "\n",
        "Hints:\n",
        "\n",
        "- `os.listdir(DIRECTORY)` returns a list with the contents of that directory.\n",
        "\n",
        "- `os.path.getsize(PATH)` returns the size of the file\n",
        "\n",
        "- `copyfile(source, destination)` copies a file from source to destination\n",
        "\n",
        "- `random.sample(list, len(list))` shuffles a list"
      ]
    },
    {
      "cell_type": "code",
      "execution_count": 7,
      "id": "e1c123a7",
      "metadata": {
        "cellView": "code",
        "id": "e1c123a7"
      },
      "outputs": [],
      "source": [
        "# GRADED FUNCTION: split_data\n",
        "def split_data(SOURCE_DIR, TRAINING_DIR, VALIDATION_DIR, SPLIT_SIZE):\n",
        "    \"\"\"\n",
        "    Splits the data into train and test sets\n",
        "\n",
        "    Args:\n",
        "        SOURCE_DIR (string): directory path containing the images\n",
        "        TRAINING_DIR (string): directory path to be used for training\n",
        "        VALIDATION_DIR (string): directory path to be used for validation\n",
        "        SPLIT_SIZE (float): proportion of the dataset to be used for training\n",
        "\n",
        "    Returns:\n",
        "        None\n",
        "    \"\"\"\n",
        "\n",
        "    ### START CODE HERE\n",
        "    # Shuffle list\n",
        "    shuffled_source = random.sample(os.listdir(SOURCE_DIR), len(os.listdir(SOURCE_DIR)))\n",
        "\n",
        "    # Find total number of files in training dir\n",
        "    training_number = int(len(shuffled_source) * SPLIT_SIZE)\n",
        "\n",
        "    i = 0\n",
        "    target = TRAINING_DIR\n",
        "\n",
        "    for item in shuffled_source:\n",
        "        item_source = os.path.join(SOURCE_DIR, item)\n",
        "\n",
        "        try:\n",
        "            img_bytes = tf.io.read_file(item_source)\n",
        "            decoded_img = tf.io.decode_image(img_bytes)\n",
        "        except tf.errors.InvalidArgumentError as err:\n",
        "            print(f'{item} is corrupted, so ignoring.')\n",
        "            continue\n",
        "\n",
        "        # if os.path.getsize(item_source) == 0:\n",
        "        #     print(f'{item} is zero length, so ignoring.')\n",
        "        if len(decoded_img.shape) != 3:\n",
        "            print(f'{item} has not 3 channels, so ignoring.')\n",
        "        else:\n",
        "            shutil.copyfile(item_source, os.path.join(target, item))\n",
        "            i += 1\n",
        "\n",
        "        # Switch copy target to TESTING\n",
        "        if i == training_number:\n",
        "            target = VALIDATION_DIR\n",
        "    ### END CODE HERE"
      ]
    },
    {
      "cell_type": "code",
      "execution_count": 8,
      "id": "7f488106",
      "metadata": {
        "colab": {
          "base_uri": "https://localhost:8080/"
        },
        "id": "7f488106",
        "outputId": "8eabf97c-f19e-4edb-b6cd-b6862d49f529"
      },
      "outputs": [
        {
          "name": "stderr",
          "output_type": "stream",
          "text": [
            "2024-06-11 02:46:53.360062: I tensorflow/core/common_runtime/gpu/gpu_device.cc:1928] Created device /job:localhost/replica:0/task:0/device:GPU:0 with 2025 MB memory:  -> device: 0, name: NVIDIA GeForce GTX 1650, pci bus id: 0000:01:00.0, compute capability: 7.5\n",
            "Corrupt JPEG data: 1153 extraneous bytes before marker 0xd9\n"
          ]
        },
        {
          "name": "stdout",
          "output_type": "stream",
          "text": [
            "11565.jpg has not 3 channels, so ignoring.\n",
            "11935.jpg has not 3 channels, so ignoring.\n",
            "10125.jpg has not 3 channels, so ignoring.\n",
            "666.jpg is corrupted, so ignoring.\n",
            "8470.jpg has not 3 channels, so ignoring.\n",
            "3300.jpg has not 3 channels, so ignoring.\n"
          ]
        },
        {
          "name": "stderr",
          "output_type": "stream",
          "text": [
            "2024-06-11 02:46:54.918440: W tensorflow/core/framework/local_rendezvous.cc:404] Local rendezvous is aborting with status: INVALID_ARGUMENT: Input is empty.\n"
          ]
        },
        {
          "name": "stdout",
          "output_type": "stream",
          "text": [
            "9171.jpg has not 3 channels, so ignoring.\n",
            "7978.jpg has not 3 channels, so ignoring.\n",
            "10501.jpg has not 3 channels, so ignoring.\n",
            "5553.jpg has not 3 channels, so ignoring.\n",
            "9778.jpg has not 3 channels, so ignoring.\n",
            "2663.jpg has not 3 channels, so ignoring.\n",
            "4351.jpg is corrupted, so ignoring.\n"
          ]
        },
        {
          "name": "stderr",
          "output_type": "stream",
          "text": [
            "2024-06-11 02:46:57.038103: W tensorflow/core/framework/local_rendezvous.cc:404] Local rendezvous is aborting with status: INVALID_ARGUMENT: Input size should match (header_size + row_size * abs_height) but they differ by 2\n"
          ]
        },
        {
          "name": "stdout",
          "output_type": "stream",
          "text": [
            "9565.jpg has not 3 channels, so ignoring.\n",
            "140.jpg has not 3 channels, so ignoring.\n",
            "10820.jpg has not 3 channels, so ignoring.\n",
            "850.jpg has not 3 channels, so ignoring.\n",
            "660.jpg has not 3 channels, so ignoring.\n",
            "7968.jpg has not 3 channels, so ignoring.\n",
            "11874.jpg has not 3 channels, so ignoring.\n"
          ]
        },
        {
          "name": "stderr",
          "output_type": "stream",
          "text": [
            "Corrupt JPEG data: 99 extraneous bytes before marker 0xd9\n"
          ]
        },
        {
          "name": "stdout",
          "output_type": "stream",
          "text": [
            "10404.jpg is corrupted, so ignoring.\n"
          ]
        },
        {
          "name": "stderr",
          "output_type": "stream",
          "text": [
            "2024-06-11 02:46:59.479106: W tensorflow/core/framework/local_rendezvous.cc:404] Local rendezvous is aborting with status: INVALID_ARGUMENT: Unknown image file format. One of JPEG, PNG, GIF, BMP required.\n"
          ]
        },
        {
          "name": "stdout",
          "output_type": "stream",
          "text": [
            "4833.jpg has not 3 channels, so ignoring.\n",
            "11210.jpg has not 3 channels, so ignoring.\n"
          ]
        },
        {
          "name": "stderr",
          "output_type": "stream",
          "text": [
            "Corrupt JPEG data: 239 extraneous bytes before marker 0xd9\n"
          ]
        },
        {
          "name": "stdout",
          "output_type": "stream",
          "text": [
            "3491.jpg has not 3 channels, so ignoring.\n"
          ]
        },
        {
          "name": "stderr",
          "output_type": "stream",
          "text": [
            "Corrupt JPEG data: 128 extraneous bytes before marker 0xd9\n"
          ]
        },
        {
          "name": "stdout",
          "output_type": "stream",
          "text": [
            "936.jpg has not 3 channels, so ignoring.\n"
          ]
        },
        {
          "name": "stderr",
          "output_type": "stream",
          "text": [
            "Corrupt JPEG data: 214 extraneous bytes before marker 0xd9\n",
            "2024-06-11 02:47:03.572750: W tensorflow/core/framework/local_rendezvous.cc:404] Local rendezvous is aborting with status: INVALID_ARGUMENT: Number of channels inherent in the image must be 1, 3 or 4, was 2\n"
          ]
        },
        {
          "name": "stdout",
          "output_type": "stream",
          "text": [
            "11233.jpg is corrupted, so ignoring.\n",
            "5604.jpg has not 3 channels, so ignoring.\n",
            "4367.jpg has not 3 channels, so ignoring.\n",
            "2384.jpg has not 3 channels, so ignoring.\n"
          ]
        },
        {
          "name": "stderr",
          "output_type": "stream",
          "text": [
            "Corrupt JPEG data: 162 extraneous bytes before marker 0xd9\n"
          ]
        },
        {
          "name": "stdout",
          "output_type": "stream",
          "text": [
            "11853.jpg has not 3 channels, so ignoring.\n",
            "3288.jpg has not 3 channels, so ignoring.\n",
            "6238.jpg has not 3 channels, so ignoring.\n",
            "2877.jpg has not 3 channels, so ignoring.\n",
            "10401.jpg has not 3 channels, so ignoring.\n",
            "7112.jpg has not 3 channels, so ignoring.\n",
            "8730.jpg has not 3 channels, so ignoring.\n"
          ]
        },
        {
          "name": "stderr",
          "output_type": "stream",
          "text": [
            "2024-06-11 02:47:05.611403: W tensorflow/core/framework/local_rendezvous.cc:404] Local rendezvous is aborting with status: INVALID_ARGUMENT: Number of channels inherent in the image must be 1, 3 or 4, was 2\n"
          ]
        },
        {
          "name": "stdout",
          "output_type": "stream",
          "text": [
            "2317.jpg is corrupted, so ignoring.\n",
            "10747.jpg has not 3 channels, so ignoring.\n"
          ]
        },
        {
          "name": "stderr",
          "output_type": "stream",
          "text": [
            "Corrupt JPEG data: 1403 extraneous bytes before marker 0xd9\n"
          ]
        },
        {
          "name": "stdout",
          "output_type": "stream",
          "text": [
            "7969.jpg has not 3 channels, so ignoring.\n",
            "3136.jpg has not 3 channels, so ignoring.\n",
            "10797.jpg has not 3 channels, so ignoring.\n",
            "10158.jpg has not 3 channels, so ignoring.\n",
            "1308.jpg has not 3 channels, so ignoring.\n"
          ]
        },
        {
          "name": "stderr",
          "output_type": "stream",
          "text": [
            "Warning: unknown JFIF revision number 0.00\n",
            "Corrupt JPEG data: 252 extraneous bytes before marker 0xd9\n",
            "Corrupt JPEG data: 2226 extraneous bytes before marker 0xd9\n"
          ]
        },
        {
          "name": "stdout",
          "output_type": "stream",
          "text": [
            "9500.jpg is corrupted, so ignoring.\n"
          ]
        },
        {
          "name": "stderr",
          "output_type": "stream",
          "text": [
            "2024-06-11 02:47:09.057044: W tensorflow/core/framework/local_rendezvous.cc:404] Local rendezvous is aborting with status: INVALID_ARGUMENT: Number of channels inherent in the image must be 1, 3 or 4, was 2\n",
            "Corrupt JPEG data: 396 extraneous bytes before marker 0xd9\n",
            "2024-06-11 02:47:09.523453: W tensorflow/core/framework/local_rendezvous.cc:404] Local rendezvous is aborting with status: INVALID_ARGUMENT: Input size should match (header_size + row_size * abs_height) but they differ by 2\n"
          ]
        },
        {
          "name": "stdout",
          "output_type": "stream",
          "text": [
            "2494.jpg is corrupted, so ignoring.\n"
          ]
        },
        {
          "name": "stderr",
          "output_type": "stream",
          "text": [
            "Corrupt JPEG data: 65 extraneous bytes before marker 0xd9\n"
          ]
        },
        {
          "name": "stdout",
          "output_type": "stream",
          "text": [
            "6718.jpg has not 3 channels, so ignoring.\n",
            "11410.jpg has not 3 channels, so ignoring.\n",
            "11849.jpg has not 3 channels, so ignoring.\n",
            "1866.jpg has not 3 channels, so ignoring.\n"
          ]
        },
        {
          "name": "stderr",
          "output_type": "stream",
          "text": [
            "Corrupt JPEG data: 228 extraneous bytes before marker 0xd9\n",
            "2024-06-11 02:47:12.177783: W tensorflow/core/framework/local_rendezvous.cc:404] Local rendezvous is aborting with status: INVALID_ARGUMENT: Input is empty.\n"
          ]
        },
        {
          "name": "stdout",
          "output_type": "stream",
          "text": [
            "11702.jpg is corrupted, so ignoring.\n",
            "9188.jpg has not 3 channels, so ignoring.\n",
            "7133.jpg has not 3 channels, so ignoring.\n",
            "2688.jpg has not 3 channels, so ignoring.\n",
            "7459.jpg has not 3 channels, so ignoring.\n",
            "11912.jpg is corrupted, so ignoring.\n",
            "6059.jpg has not 3 channels, so ignoring.\n"
          ]
        },
        {
          "name": "stderr",
          "output_type": "stream",
          "text": [
            "2024-06-11 02:47:12.687823: W tensorflow/core/framework/local_rendezvous.cc:404] Local rendezvous is aborting with status: INVALID_ARGUMENT: Number of channels inherent in the image must be 1, 3 or 4, was 2\n"
          ]
        },
        {
          "name": "stdout",
          "output_type": "stream",
          "text": [
            "11675.jpg has not 3 channels, so ignoring.\n",
            "3588.jpg has not 3 channels, so ignoring.\n",
            "7369.jpg has not 3 channels, so ignoring.\n",
            "5736.jpg has not 3 channels, so ignoring.\n",
            "\n",
            "\n",
            "Original cat's directory has 12500 images\n",
            "Original dog's directory has 12500 images\n",
            "\n",
            "There are 11250 images of cats for training\n",
            "There are 11250 images of dogs for training\n",
            "There are 1225 images of cats for validation\n",
            "There are 1215 images of dogs for validation\n"
          ]
        }
      ],
      "source": [
        "# Test your split_data function\n",
        "\n",
        "# Define paths\n",
        "CAT_SOURCE_DIR = \"./data/PetImages/Cat/\"\n",
        "DOG_SOURCE_DIR = \"./data/PetImages/Dog/\"\n",
        "\n",
        "TRAINING_DIR = \"./data/cats-v-dogs/training/\"\n",
        "VALIDATION_DIR = \"./data/cats-v-dogs/validation/\"\n",
        "\n",
        "TRAINING_CATS_DIR = os.path.join(TRAINING_DIR, \"cats/\")\n",
        "VALIDATION_CATS_DIR = os.path.join(VALIDATION_DIR, \"cats/\")\n",
        "\n",
        "TRAINING_DOGS_DIR = os.path.join(TRAINING_DIR, \"dogs/\")\n",
        "VALIDATION_DOGS_DIR = os.path.join(VALIDATION_DIR, \"dogs/\")\n",
        "\n",
        "# Empty directories in case you run this cell multiple times\n",
        "if len(os.listdir(TRAINING_CATS_DIR)) > 0:\n",
        "    for file in os.scandir(TRAINING_CATS_DIR):\n",
        "        os.remove(file.path)\n",
        "\n",
        "if len(os.listdir(TRAINING_DOGS_DIR)) > 0:\n",
        "    for file in os.scandir(TRAINING_DOGS_DIR):\n",
        "        os.remove(file.path)\n",
        "\n",
        "if len(os.listdir(VALIDATION_CATS_DIR)) > 0:\n",
        "    for file in os.scandir(VALIDATION_CATS_DIR):\n",
        "        os.remove(file.path)\n",
        "\n",
        "if len(os.listdir(VALIDATION_DOGS_DIR)) > 0:\n",
        "    for file in os.scandir(VALIDATION_DOGS_DIR):\n",
        "        os.remove(file.path)\n",
        "\n",
        "# Define proportion of images used for training\n",
        "split_size = 0.9\n",
        "\n",
        "# Run the function\n",
        "# NOTE: Messages about zero length images should be printed out\n",
        "split_data(CAT_SOURCE_DIR, TRAINING_CATS_DIR, VALIDATION_CATS_DIR, split_size)\n",
        "split_data(DOG_SOURCE_DIR, TRAINING_DOGS_DIR, VALIDATION_DOGS_DIR, split_size)\n",
        "\n",
        "# Check that the number of images matches the expected output\n",
        "\n",
        "# Your function should perform copies rather than moving images so original directories should contain unchanged images\n",
        "print(f\"\\n\\nOriginal cat's directory has {len(os.listdir(CAT_SOURCE_DIR))} images\")\n",
        "print(f\"Original dog's directory has {len(os.listdir(DOG_SOURCE_DIR))} images\\n\")\n",
        "\n",
        "# Training and validation splits\n",
        "print(f\"There are {len(os.listdir(TRAINING_CATS_DIR))} images of cats for training\")\n",
        "print(f\"There are {len(os.listdir(TRAINING_DOGS_DIR))} images of dogs for training\")\n",
        "print(f\"There are {len(os.listdir(VALIDATION_CATS_DIR))} images of cats for validation\")\n",
        "print(f\"There are {len(os.listdir(VALIDATION_DOGS_DIR))} images of dogs for validation\")"
      ]
    },
    {
      "cell_type": "markdown",
      "id": "dbb2aedc",
      "metadata": {
        "id": "dbb2aedc"
      },
      "source": [
        "**Expected Output:**\n",
        "\n",
        "```\n",
        "666.jpg is zero length, so ignoring.\n",
        "11702.jpg is zero length, so ignoring.\n",
        "\n",
        "\n",
        "Original cat's directory has 12500 images\n",
        "Original dog's directory has 12500 images\n",
        "\n",
        "There are 11249 images of cats for training\n",
        "There are 11249 images of dogs for training\n",
        "There are 1250 images of cats for validation\n",
        "There are 1250 images of dogs for validation\n",
        "```"
      ]
    },
    {
      "cell_type": "markdown",
      "id": "32a30ba6",
      "metadata": {
        "id": "32a30ba6"
      },
      "source": [
        "Now that you have successfully organized the data in a way that can be easily fed to Keras' `ImageDataGenerator`, it is time for you to code the generators that will yield batches of images, both for training and validation. For this, complete the `train_val_generators` function below.\n",
        "\n",
        "Something important to note is that the images in this dataset come in a variety of resolutions. Luckily, the `flow_from_directory` method allows you to standarize this by defining a tuple called `target_size` that will be used to convert each image to this target resolution. **For this exercise, use a `target_size` of (150, 150)**.\n",
        "\n",
        "**Hint:**\n",
        "\n",
        "Don't use data augmentation by setting extra parameters when you instantiate the `ImageDataGenerator` class. This will make the training of your model to take longer to reach the necessary accuracy threshold to pass this assignment and this topic will be covered in the next week."
      ]
    },
    {
      "cell_type": "code",
      "execution_count": 9,
      "id": "24714cb2",
      "metadata": {
        "cellView": "code",
        "id": "24714cb2"
      },
      "outputs": [],
      "source": [
        "# GRADED FUNCTION: train_val_generators\n",
        "def train_val_generators(TRAINING_DIR, VALIDATION_DIR):\n",
        "    \"\"\"\n",
        "    Creates the training and validation data generators\n",
        "\n",
        "    Args:\n",
        "        TRAINING_DIR (string): directory path containing the training images\n",
        "        VALIDATION_DIR (string): directory path containing the testing/validation images\n",
        "\n",
        "    Returns:\n",
        "        train_generator, validation_generator - tuple containing the generators\n",
        "    \"\"\"\n",
        "    ### START CODE HERE\n",
        "\n",
        "    # Instantiate the ImageDataGenerator class (don't forget to set the rescale argument)\n",
        "    scale = layers.Rescaling(scale=1. / 255)\n",
        "\n",
        "    # Pass in the appropriate arguments to the flow_from_directory method\n",
        "    train_generator = utils.image_dataset_from_directory(directory=TRAINING_DIR,\n",
        "                                                         image_size=(150, 150),\n",
        "                                                         label_mode='binary')\n",
        "    \n",
        "    # Instantiate the ImageDataGenerator class (don't forget to set the rescale argument)\n",
        "    \n",
        "    # Pass in the appropriate arguments to the flow_from_directory method\n",
        "    validation_generator = utils.image_dataset_from_directory(directory=VALIDATION_DIR,\n",
        "                                                              image_size=(150, 150),\n",
        "                                                              label_mode='binary')\n",
        "    \n",
        "    train_generator = train_generator.map(lambda image, label: (scale(image), label))\n",
        "    validation_generator = validation_generator.map(lambda image, label: (scale(image), label))\n",
        "    ### END CODE HERE\n",
        "    \n",
        "    return train_generator, validation_generator"
      ]
    },
    {
      "cell_type": "code",
      "execution_count": 10,
      "id": "0a13c894",
      "metadata": {
        "colab": {
          "base_uri": "https://localhost:8080/"
        },
        "id": "0a13c894",
        "outputId": "3492c371-2228-4822-b6d9-b20457fdce3c"
      },
      "outputs": [
        {
          "name": "stdout",
          "output_type": "stream",
          "text": [
            "Found 22500 files belonging to 2 classes.\n",
            "Found 2440 files belonging to 2 classes.\n"
          ]
        }
      ],
      "source": [
        "# Test your generators\n",
        "train_generator, validation_generator = train_val_generators(TRAINING_DIR, VALIDATION_DIR)"
      ]
    },
    {
      "cell_type": "markdown",
      "id": "2992173c",
      "metadata": {
        "id": "2992173c"
      },
      "source": [
        "**Expected Output:**\n",
        "\n",
        "```\n",
        "Found 22498 images belonging to 2 classes.\n",
        "Found 2500 images belonging to 2 classes.\n",
        "```\n"
      ]
    },
    {
      "cell_type": "markdown",
      "id": "4b01ac22",
      "metadata": {
        "id": "4b01ac22"
      },
      "source": [
        "One last step before training is to define the architecture of the model that will be trained.\n",
        "\n",
        "Complete the `create_model` function below which should return a Keras' `Sequential` model.\n",
        "\n",
        "Aside from defining the architecture of the model, you should also compile it so make sure to use a `loss` function that is compatible with the `class_mode` you defined in the previous exercise, which should also be compatible with the output of your network. You can tell if they aren't compatible if you get an error during training.\n",
        "\n",
        "**Note that you should use at least 3 convolution layers to achieve the desired performance.**"
      ]
    },
    {
      "cell_type": "code",
      "execution_count": 11,
      "id": "2141d195",
      "metadata": {
        "cellView": "code",
        "id": "2141d195",
        "lines_to_next_cell": 2
      },
      "outputs": [],
      "source": [
        "# GRADED FUNCTION: create_model\n",
        "def create_model():\n",
        "    # DEFINE A KERAS MODEL TO CLASSIFY CATS V DOGS\n",
        "    # USE AT LEAST 3 CONVOLUTION LAYERS\n",
        "\n",
        "    ### START CODE HERE\n",
        "\n",
        "    model = Sequential([Input(shape=(150, 150, 3)),\n",
        "                        # Note the input shape is the desired size of the image 150x150 with 3 bytes color\n",
        "                        layers.Conv2D(16, (3, 3), activation='relu'),\n",
        "                        layers.MaxPooling2D(2, 2),\n",
        "                        layers.Conv2D(32, (3, 3), activation='relu'),\n",
        "                        layers.MaxPooling2D(2, 2),\n",
        "                        layers.Conv2D(64, (3, 3), activation='relu'),\n",
        "                        layers.MaxPooling2D(2, 2),\n",
        "                        # Flatten the results to feed into a DNN\n",
        "                        layers.Flatten(),\n",
        "                        # 512 neuron hidden layer\n",
        "                        layers.Dense(512, activation='relu'),\n",
        "                        # Only 1 output neuron. It will contain a value from 0-1 where 0 for 1 class ('cats') and 1 for the other ('dogs')\n",
        "                        layers.Dense(1, activation='sigmoid')])\n",
        "\n",
        "    model.compile(optimizer=optimizers.RMSprop(learning_rate=0.001),\n",
        "                  loss='binary_crossentropy',\n",
        "                  metrics=['accuracy'])\n",
        "    ### END CODE HERE\n",
        "\n",
        "    return model"
      ]
    },
    {
      "cell_type": "markdown",
      "id": "5fe2ed9f",
      "metadata": {
        "id": "5fe2ed9f"
      },
      "source": [
        "Now it is time to train your model!\n",
        "\n",
        "**Note:** You can ignore the `UserWarning: Possibly corrupt EXIF data.` warnings."
      ]
    },
    {
      "cell_type": "code",
      "execution_count": 12,
      "id": "87cbef80",
      "metadata": {
        "colab": {
          "base_uri": "https://localhost:8080/"
        },
        "id": "87cbef80",
        "outputId": "c5ece8ac-0cb7-469a-900e-243260d844bd",
        "tags": []
      },
      "outputs": [
        {
          "name": "stdout",
          "output_type": "stream",
          "text": [
            "Epoch 1/15\n"
          ]
        },
        {
          "name": "stderr",
          "output_type": "stream",
          "text": [
            "WARNING: All log messages before absl::InitializeLog() is called are written to STDERR\n",
            "I0000 00:00:1718095636.082438   18613 service.cc:145] XLA service 0x7ff660003c80 initialized for platform CUDA (this does not guarantee that XLA will be used). Devices:\n",
            "I0000 00:00:1718095636.082473   18613 service.cc:153]   StreamExecutor device (0): NVIDIA GeForce GTX 1650, Compute Capability 7.5\n",
            "2024-06-11 02:47:16.110544: I tensorflow/compiler/mlir/tensorflow/utils/dump_mlir_util.cc:268] disabling MLIR crash reproducer, set env var `MLIR_CRASH_REPRODUCER_DIRECTORY` to enable.\n",
            "2024-06-11 02:47:16.242996: I external/local_xla/xla/stream_executor/cuda/cuda_dnn.cc:465] Loaded cuDNN version 8907\n",
            "I0000 00:00:1718095638.760201   18613 device_compiler.h:188] Compiled cluster using XLA!  This line is logged at most once for the lifetime of the process.\n",
            "Corrupt JPEG data: 99 extraneous bytes before marker 0xd9\n",
            "Corrupt JPEG data: 252 extraneous bytes before marker 0xd9\n",
            "Corrupt JPEG data: 128 extraneous bytes before marker 0xd9\n",
            "Corrupt JPEG data: 162 extraneous bytes before marker 0xd9\n",
            "Warning: unknown JFIF revision number 0.00\n",
            "Corrupt JPEG data: 228 extraneous bytes before marker 0xd9\n",
            "Corrupt JPEG data: 1153 extraneous bytes before marker 0xd9\n",
            "Corrupt JPEG data: 65 extraneous bytes before marker 0xd9\n",
            "Corrupt JPEG data: 239 extraneous bytes before marker 0xd9\n",
            "Corrupt JPEG data: 2226 extraneous bytes before marker 0xd9\n",
            "Corrupt JPEG data: 1403 extraneous bytes before marker 0xd9\n",
            "Corrupt JPEG data: 214 extraneous bytes before marker 0xd9\n",
            "Corrupt JPEG data: 396 extraneous bytes before marker 0xd9\n"
          ]
        },
        {
          "name": "stdout",
          "output_type": "stream",
          "text": [
            "704/704 - 18s - 25ms/step - accuracy: 0.6664 - loss: 0.5996 - val_accuracy: 0.7389 - val_loss: 0.5190\n",
            "Epoch 2/15\n"
          ]
        },
        {
          "name": "stderr",
          "output_type": "stream",
          "text": [
            "Corrupt JPEG data: 99 extraneous bytes before marker 0xd9\n",
            "Corrupt JPEG data: 252 extraneous bytes before marker 0xd9\n",
            "Corrupt JPEG data: 128 extraneous bytes before marker 0xd9\n",
            "Corrupt JPEG data: 162 extraneous bytes before marker 0xd9\n",
            "Warning: unknown JFIF revision number 0.00\n",
            "Corrupt JPEG data: 228 extraneous bytes before marker 0xd9\n",
            "Corrupt JPEG data: 1153 extraneous bytes before marker 0xd9\n",
            "Corrupt JPEG data: 65 extraneous bytes before marker 0xd9\n",
            "Corrupt JPEG data: 2226 extraneous bytes before marker 0xd9\n",
            "Corrupt JPEG data: 239 extraneous bytes before marker 0xd9\n",
            "Corrupt JPEG data: 1403 extraneous bytes before marker 0xd9\n",
            "Corrupt JPEG data: 396 extraneous bytes before marker 0xd9\n",
            "Corrupt JPEG data: 214 extraneous bytes before marker 0xd9\n"
          ]
        },
        {
          "name": "stdout",
          "output_type": "stream",
          "text": [
            "704/704 - 12s - 17ms/step - accuracy: 0.7845 - loss: 0.4527 - val_accuracy: 0.7959 - val_loss: 0.4738\n",
            "Epoch 3/15\n"
          ]
        },
        {
          "name": "stderr",
          "output_type": "stream",
          "text": [
            "Corrupt JPEG data: 99 extraneous bytes before marker 0xd9\n",
            "Corrupt JPEG data: 252 extraneous bytes before marker 0xd9\n",
            "Corrupt JPEG data: 128 extraneous bytes before marker 0xd9\n",
            "Corrupt JPEG data: 162 extraneous bytes before marker 0xd9\n",
            "Corrupt JPEG data: 228 extraneous bytes before marker 0xd9\n",
            "Warning: unknown JFIF revision number 0.00\n",
            "Corrupt JPEG data: 65 extraneous bytes before marker 0xd9\n",
            "Corrupt JPEG data: 1153 extraneous bytes before marker 0xd9\n",
            "Corrupt JPEG data: 239 extraneous bytes before marker 0xd9\n",
            "Corrupt JPEG data: 2226 extraneous bytes before marker 0xd9\n",
            "Corrupt JPEG data: 1403 extraneous bytes before marker 0xd9\n",
            "Corrupt JPEG data: 396 extraneous bytes before marker 0xd9\n",
            "Corrupt JPEG data: 214 extraneous bytes before marker 0xd9\n"
          ]
        },
        {
          "name": "stdout",
          "output_type": "stream",
          "text": [
            "704/704 - 12s - 17ms/step - accuracy: 0.8336 - loss: 0.3718 - val_accuracy: 0.8189 - val_loss: 0.3988\n",
            "Epoch 4/15\n"
          ]
        },
        {
          "name": "stderr",
          "output_type": "stream",
          "text": [
            "Corrupt JPEG data: 99 extraneous bytes before marker 0xd9\n",
            "Corrupt JPEG data: 252 extraneous bytes before marker 0xd9\n",
            "Corrupt JPEG data: 128 extraneous bytes before marker 0xd9\n",
            "Corrupt JPEG data: 162 extraneous bytes before marker 0xd9\n",
            "Warning: unknown JFIF revision number 0.00\n",
            "Corrupt JPEG data: 228 extraneous bytes before marker 0xd9\n",
            "Corrupt JPEG data: 1153 extraneous bytes before marker 0xd9\n",
            "Corrupt JPEG data: 65 extraneous bytes before marker 0xd9\n",
            "Corrupt JPEG data: 239 extraneous bytes before marker 0xd9\n",
            "Corrupt JPEG data: 2226 extraneous bytes before marker 0xd9\n",
            "Corrupt JPEG data: 1403 extraneous bytes before marker 0xd9\n",
            "Corrupt JPEG data: 214 extraneous bytes before marker 0xd9\n",
            "Corrupt JPEG data: 396 extraneous bytes before marker 0xd9\n"
          ]
        },
        {
          "name": "stdout",
          "output_type": "stream",
          "text": [
            "704/704 - 12s - 17ms/step - accuracy: 0.8768 - loss: 0.2900 - val_accuracy: 0.8254 - val_loss: 0.4541\n",
            "Epoch 5/15\n"
          ]
        },
        {
          "name": "stderr",
          "output_type": "stream",
          "text": [
            "Corrupt JPEG data: 252 extraneous bytes before marker 0xd9\n",
            "Corrupt JPEG data: 99 extraneous bytes before marker 0xd9\n",
            "Corrupt JPEG data: 128 extraneous bytes before marker 0xd9\n",
            "Corrupt JPEG data: 162 extraneous bytes before marker 0xd9\n",
            "Warning: unknown JFIF revision number 0.00\n",
            "Corrupt JPEG data: 228 extraneous bytes before marker 0xd9\n",
            "Corrupt JPEG data: 1153 extraneous bytes before marker 0xd9\n",
            "Corrupt JPEG data: 65 extraneous bytes before marker 0xd9\n",
            "Corrupt JPEG data: 239 extraneous bytes before marker 0xd9\n",
            "Corrupt JPEG data: 2226 extraneous bytes before marker 0xd9\n",
            "Corrupt JPEG data: 1403 extraneous bytes before marker 0xd9\n",
            "Corrupt JPEG data: 396 extraneous bytes before marker 0xd9\n",
            "Corrupt JPEG data: 214 extraneous bytes before marker 0xd9\n"
          ]
        },
        {
          "name": "stdout",
          "output_type": "stream",
          "text": [
            "704/704 - 12s - 18ms/step - accuracy: 0.9209 - loss: 0.1907 - val_accuracy: 0.8275 - val_loss: 0.5275\n",
            "Epoch 6/15\n"
          ]
        },
        {
          "name": "stderr",
          "output_type": "stream",
          "text": [
            "Corrupt JPEG data: 99 extraneous bytes before marker 0xd9\n",
            "Corrupt JPEG data: 252 extraneous bytes before marker 0xd9\n",
            "Corrupt JPEG data: 128 extraneous bytes before marker 0xd9\n",
            "Corrupt JPEG data: 162 extraneous bytes before marker 0xd9\n",
            "Corrupt JPEG data: 228 extraneous bytes before marker 0xd9\n",
            "Warning: unknown JFIF revision number 0.00\n",
            "Corrupt JPEG data: 1153 extraneous bytes before marker 0xd9\n",
            "Corrupt JPEG data: 65 extraneous bytes before marker 0xd9\n",
            "Corrupt JPEG data: 2226 extraneous bytes before marker 0xd9\n",
            "Corrupt JPEG data: 239 extraneous bytes before marker 0xd9\n",
            "Corrupt JPEG data: 1403 extraneous bytes before marker 0xd9\n",
            "Corrupt JPEG data: 396 extraneous bytes before marker 0xd9\n",
            "Corrupt JPEG data: 214 extraneous bytes before marker 0xd9\n"
          ]
        },
        {
          "name": "stdout",
          "output_type": "stream",
          "text": [
            "704/704 - 12s - 17ms/step - accuracy: 0.9622 - loss: 0.1000 - val_accuracy: 0.8393 - val_loss: 0.6960\n",
            "Epoch 7/15\n"
          ]
        },
        {
          "name": "stderr",
          "output_type": "stream",
          "text": [
            "Corrupt JPEG data: 99 extraneous bytes before marker 0xd9\n",
            "Corrupt JPEG data: 252 extraneous bytes before marker 0xd9\n",
            "Corrupt JPEG data: 128 extraneous bytes before marker 0xd9\n",
            "Corrupt JPEG data: 162 extraneous bytes before marker 0xd9\n",
            "Corrupt JPEG data: 228 extraneous bytes before marker 0xd9\n",
            "Warning: unknown JFIF revision number 0.00\n",
            "Corrupt JPEG data: 1153 extraneous bytes before marker 0xd9\n",
            "Corrupt JPEG data: 65 extraneous bytes before marker 0xd9\n",
            "Corrupt JPEG data: 239 extraneous bytes before marker 0xd9\n",
            "Corrupt JPEG data: 2226 extraneous bytes before marker 0xd9\n",
            "Corrupt JPEG data: 1403 extraneous bytes before marker 0xd9\n",
            "Corrupt JPEG data: 396 extraneous bytes before marker 0xd9\n",
            "Corrupt JPEG data: 214 extraneous bytes before marker 0xd9\n"
          ]
        },
        {
          "name": "stdout",
          "output_type": "stream",
          "text": [
            "704/704 - 12s - 18ms/step - accuracy: 0.9812 - loss: 0.0556 - val_accuracy: 0.8389 - val_loss: 0.7698\n",
            "Epoch 8/15\n"
          ]
        },
        {
          "name": "stderr",
          "output_type": "stream",
          "text": [
            "Corrupt JPEG data: 99 extraneous bytes before marker 0xd9\n",
            "Corrupt JPEG data: 252 extraneous bytes before marker 0xd9\n",
            "Corrupt JPEG data: 128 extraneous bytes before marker 0xd9\n",
            "Corrupt JPEG data: 162 extraneous bytes before marker 0xd9\n",
            "Warning: unknown JFIF revision number 0.00\n",
            "Corrupt JPEG data: 228 extraneous bytes before marker 0xd9\n",
            "Corrupt JPEG data: 1153 extraneous bytes before marker 0xd9\n",
            "Corrupt JPEG data: 65 extraneous bytes before marker 0xd9\n",
            "Corrupt JPEG data: 239 extraneous bytes before marker 0xd9\n",
            "Corrupt JPEG data: 2226 extraneous bytes before marker 0xd9\n",
            "Corrupt JPEG data: 1403 extraneous bytes before marker 0xd9\n",
            "Corrupt JPEG data: 396 extraneous bytes before marker 0xd9\n",
            "Corrupt JPEG data: 214 extraneous bytes before marker 0xd9\n"
          ]
        },
        {
          "name": "stdout",
          "output_type": "stream",
          "text": [
            "704/704 - 12s - 18ms/step - accuracy: 0.9857 - loss: 0.0433 - val_accuracy: 0.8234 - val_loss: 0.9874\n",
            "Epoch 9/15\n"
          ]
        },
        {
          "name": "stderr",
          "output_type": "stream",
          "text": [
            "Corrupt JPEG data: 99 extraneous bytes before marker 0xd9\n",
            "Corrupt JPEG data: 252 extraneous bytes before marker 0xd9\n",
            "Corrupt JPEG data: 128 extraneous bytes before marker 0xd9\n",
            "Corrupt JPEG data: 162 extraneous bytes before marker 0xd9\n",
            "Warning: unknown JFIF revision number 0.00\n",
            "Corrupt JPEG data: 228 extraneous bytes before marker 0xd9\n",
            "Corrupt JPEG data: 1153 extraneous bytes before marker 0xd9\n",
            "Corrupt JPEG data: 239 extraneous bytes before marker 0xd9\n",
            "Corrupt JPEG data: 65 extraneous bytes before marker 0xd9\n",
            "Corrupt JPEG data: 2226 extraneous bytes before marker 0xd9\n",
            "Corrupt JPEG data: 1403 extraneous bytes before marker 0xd9\n",
            "Corrupt JPEG data: 396 extraneous bytes before marker 0xd9\n",
            "Corrupt JPEG data: 214 extraneous bytes before marker 0xd9\n"
          ]
        },
        {
          "name": "stdout",
          "output_type": "stream",
          "text": [
            "704/704 - 12s - 17ms/step - accuracy: 0.9893 - loss: 0.0325 - val_accuracy: 0.8348 - val_loss: 1.0085\n",
            "Epoch 10/15\n"
          ]
        },
        {
          "name": "stderr",
          "output_type": "stream",
          "text": [
            "Corrupt JPEG data: 99 extraneous bytes before marker 0xd9\n",
            "Corrupt JPEG data: 252 extraneous bytes before marker 0xd9\n",
            "Corrupt JPEG data: 128 extraneous bytes before marker 0xd9\n",
            "Corrupt JPEG data: 162 extraneous bytes before marker 0xd9\n",
            "Corrupt JPEG data: 228 extraneous bytes before marker 0xd9\n",
            "Warning: unknown JFIF revision number 0.00\n",
            "Corrupt JPEG data: 1153 extraneous bytes before marker 0xd9\n",
            "Corrupt JPEG data: 65 extraneous bytes before marker 0xd9\n",
            "Corrupt JPEG data: 239 extraneous bytes before marker 0xd9\n",
            "Corrupt JPEG data: 2226 extraneous bytes before marker 0xd9\n",
            "Corrupt JPEG data: 1403 extraneous bytes before marker 0xd9\n",
            "Corrupt JPEG data: 396 extraneous bytes before marker 0xd9\n",
            "Corrupt JPEG data: 214 extraneous bytes before marker 0xd9\n"
          ]
        },
        {
          "name": "stdout",
          "output_type": "stream",
          "text": [
            "704/704 - 12s - 18ms/step - accuracy: 0.9908 - loss: 0.0295 - val_accuracy: 0.8221 - val_loss: 1.2840\n",
            "Epoch 11/15\n"
          ]
        },
        {
          "name": "stderr",
          "output_type": "stream",
          "text": [
            "Corrupt JPEG data: 99 extraneous bytes before marker 0xd9\n",
            "Corrupt JPEG data: 252 extraneous bytes before marker 0xd9\n",
            "Corrupt JPEG data: 128 extraneous bytes before marker 0xd9\n",
            "Corrupt JPEG data: 162 extraneous bytes before marker 0xd9\n",
            "Warning: unknown JFIF revision number 0.00\n",
            "Corrupt JPEG data: 228 extraneous bytes before marker 0xd9\n",
            "Corrupt JPEG data: 1153 extraneous bytes before marker 0xd9\n",
            "Corrupt JPEG data: 65 extraneous bytes before marker 0xd9\n",
            "Corrupt JPEG data: 2226 extraneous bytes before marker 0xd9\n",
            "Corrupt JPEG data: 239 extraneous bytes before marker 0xd9\n",
            "Corrupt JPEG data: 1403 extraneous bytes before marker 0xd9\n",
            "Corrupt JPEG data: 214 extraneous bytes before marker 0xd9\n",
            "Corrupt JPEG data: 396 extraneous bytes before marker 0xd9\n"
          ]
        },
        {
          "name": "stdout",
          "output_type": "stream",
          "text": [
            "704/704 - 12s - 18ms/step - accuracy: 0.9928 - loss: 0.0228 - val_accuracy: 0.8328 - val_loss: 1.3173\n",
            "Epoch 12/15\n"
          ]
        },
        {
          "name": "stderr",
          "output_type": "stream",
          "text": [
            "Corrupt JPEG data: 99 extraneous bytes before marker 0xd9\n",
            "Corrupt JPEG data: 252 extraneous bytes before marker 0xd9\n",
            "Corrupt JPEG data: 128 extraneous bytes before marker 0xd9\n",
            "Corrupt JPEG data: 162 extraneous bytes before marker 0xd9\n",
            "Warning: unknown JFIF revision number 0.00\n",
            "Corrupt JPEG data: 228 extraneous bytes before marker 0xd9\n",
            "Corrupt JPEG data: 1153 extraneous bytes before marker 0xd9\n",
            "Corrupt JPEG data: 65 extraneous bytes before marker 0xd9\n",
            "Corrupt JPEG data: 239 extraneous bytes before marker 0xd9\n",
            "Corrupt JPEG data: 2226 extraneous bytes before marker 0xd9\n",
            "Corrupt JPEG data: 1403 extraneous bytes before marker 0xd9\n",
            "Corrupt JPEG data: 396 extraneous bytes before marker 0xd9\n",
            "Corrupt JPEG data: 214 extraneous bytes before marker 0xd9\n"
          ]
        },
        {
          "name": "stdout",
          "output_type": "stream",
          "text": [
            "704/704 - 12s - 17ms/step - accuracy: 0.9936 - loss: 0.0218 - val_accuracy: 0.8369 - val_loss: 1.3856\n",
            "Epoch 13/15\n"
          ]
        },
        {
          "name": "stderr",
          "output_type": "stream",
          "text": [
            "Corrupt JPEG data: 99 extraneous bytes before marker 0xd9\n",
            "Corrupt JPEG data: 252 extraneous bytes before marker 0xd9\n",
            "Corrupt JPEG data: 128 extraneous bytes before marker 0xd9\n",
            "Corrupt JPEG data: 162 extraneous bytes before marker 0xd9\n",
            "Corrupt JPEG data: 228 extraneous bytes before marker 0xd9\n",
            "Warning: unknown JFIF revision number 0.00\n",
            "Corrupt JPEG data: 1153 extraneous bytes before marker 0xd9\n",
            "Corrupt JPEG data: 65 extraneous bytes before marker 0xd9\n",
            "Corrupt JPEG data: 239 extraneous bytes before marker 0xd9\n",
            "Corrupt JPEG data: 2226 extraneous bytes before marker 0xd9\n",
            "Corrupt JPEG data: 1403 extraneous bytes before marker 0xd9\n",
            "Corrupt JPEG data: 214 extraneous bytes before marker 0xd9\n",
            "Corrupt JPEG data: 396 extraneous bytes before marker 0xd9\n"
          ]
        },
        {
          "name": "stdout",
          "output_type": "stream",
          "text": [
            "704/704 - 12s - 17ms/step - accuracy: 0.9937 - loss: 0.0220 - val_accuracy: 0.8213 - val_loss: 1.5537\n",
            "Epoch 14/15\n"
          ]
        },
        {
          "name": "stderr",
          "output_type": "stream",
          "text": [
            "Corrupt JPEG data: 252 extraneous bytes before marker 0xd9\n",
            "Corrupt JPEG data: 128 extraneous bytes before marker 0xd9\n",
            "Corrupt JPEG data: 99 extraneous bytes before marker 0xd9\n",
            "Corrupt JPEG data: 162 extraneous bytes before marker 0xd9\n",
            "Warning: unknown JFIF revision number 0.00\n",
            "Corrupt JPEG data: 228 extraneous bytes before marker 0xd9\n",
            "Corrupt JPEG data: 1153 extraneous bytes before marker 0xd9\n",
            "Corrupt JPEG data: 65 extraneous bytes before marker 0xd9\n",
            "Corrupt JPEG data: 2226 extraneous bytes before marker 0xd9\n",
            "Corrupt JPEG data: 239 extraneous bytes before marker 0xd9\n",
            "Corrupt JPEG data: 1403 extraneous bytes before marker 0xd9\n",
            "Corrupt JPEG data: 396 extraneous bytes before marker 0xd9\n",
            "Corrupt JPEG data: 214 extraneous bytes before marker 0xd9\n"
          ]
        },
        {
          "name": "stdout",
          "output_type": "stream",
          "text": [
            "704/704 - 12s - 17ms/step - accuracy: 0.9941 - loss: 0.0234 - val_accuracy: 0.8258 - val_loss: 1.4195\n",
            "Epoch 15/15\n"
          ]
        },
        {
          "name": "stderr",
          "output_type": "stream",
          "text": [
            "Corrupt JPEG data: 99 extraneous bytes before marker 0xd9\n",
            "Corrupt JPEG data: 252 extraneous bytes before marker 0xd9\n",
            "Corrupt JPEG data: 128 extraneous bytes before marker 0xd9\n",
            "Corrupt JPEG data: 162 extraneous bytes before marker 0xd9\n",
            "Warning: unknown JFIF revision number 0.00\n",
            "Corrupt JPEG data: 228 extraneous bytes before marker 0xd9\n",
            "Corrupt JPEG data: 1153 extraneous bytes before marker 0xd9\n",
            "Corrupt JPEG data: 65 extraneous bytes before marker 0xd9\n",
            "Corrupt JPEG data: 239 extraneous bytes before marker 0xd9\n",
            "Corrupt JPEG data: 2226 extraneous bytes before marker 0xd9\n",
            "Corrupt JPEG data: 1403 extraneous bytes before marker 0xd9\n",
            "Corrupt JPEG data: 214 extraneous bytes before marker 0xd9\n",
            "Corrupt JPEG data: 396 extraneous bytes before marker 0xd9\n"
          ]
        },
        {
          "name": "stdout",
          "output_type": "stream",
          "text": [
            "704/704 - 12s - 18ms/step - accuracy: 0.9944 - loss: 0.0191 - val_accuracy: 0.8381 - val_loss: 1.4401\n"
          ]
        }
      ],
      "source": [
        "# Get the untrained model\n",
        "model = create_model()\n",
        "\n",
        "# Train the model\n",
        "# Note that this may take some time.\n",
        "history = model.fit(train_generator,\n",
        "                    epochs=15,\n",
        "                    verbose=2,\n",
        "                    validation_data=validation_generator)"
      ]
    },
    {
      "cell_type": "markdown",
      "id": "80ccc14c",
      "metadata": {
        "id": "80ccc14c"
      },
      "source": [
        "Once training has finished, you can run the following cell to check the training and validation accuracy achieved at the end of each epoch.\n",
        "\n",
        "**To pass this assignment, your model should achieve a training accuracy of at least 95% and a validation accuracy of at least 80%**. If your model didn't achieve these thresholds, try training again with a different model architecture and remember to use at least 3 convolutional layers."
      ]
    },
    {
      "cell_type": "code",
      "execution_count": 13,
      "id": "32146607",
      "metadata": {
        "colab": {
          "base_uri": "https://localhost:8080/",
          "height": 882
        },
        "id": "32146607",
        "outputId": "162766c9-ecd1-44a5-da87-4804c8b2a727",
        "tags": []
      },
      "outputs": [
        {
          "data": {
            "image/png": "[encoded data removed]",
            "text/plain": [
              "<Figure size 640x480 with 1 Axes>"
            ]
          },
          "metadata": {},
          "output_type": "display_data"
        },
        {
          "data": {
            "image/png": "[encoded data removed]",
            "text/plain": [
              "<Figure size 640x480 with 1 Axes>"
            ]
          },
          "metadata": {},
          "output_type": "display_data"
        }
      ],
      "source": [
        "sns.set_style(\"whitegrid\")\n",
        "\n",
        "#-----------------------------------------------------------\n",
        "# Retrieve a list of list results on training and test data\n",
        "# sets for each training epoch\n",
        "#-----------------------------------------------------------\n",
        "acc = history.history['accuracy']\n",
        "val_acc = history.history['val_accuracy']\n",
        "loss = history.history['loss']\n",
        "val_loss = history.history['val_loss']\n",
        "\n",
        "epochs = range(len(acc)) # Get number of epochs\n",
        "\n",
        "#------------------------------------------------\n",
        "# Plot training and validation accuracy per epoch\n",
        "#------------------------------------------------\n",
        "plt.figure()\n",
        "plt.plot(epochs, acc, 'r')\n",
        "plt.plot(epochs, val_acc, 'b')\n",
        "plt.title('Training and validation accuracy')\n",
        "plt.xlabel(\"epochs\")\n",
        "plt.ylabel(\"accuracy\")\n",
        "plt.legend([\"Training\", \"Validation\"])\n",
        "plt.show()\n",
        "\n",
        "#------------------------------------------------\n",
        "# Plot training and validation loss per epoch\n",
        "#------------------------------------------------\n",
        "plt.figure()\n",
        "plt.plot(epochs, loss, 'r')\n",
        "plt.plot(epochs, val_loss, 'b')\n",
        "plt.title('Training and validation loss')\n",
        "plt.xlabel(\"epochs\")\n",
        "plt.ylabel(\"loss\")\n",
        "plt.legend([\"Training\", \"Validation\"])\n",
        "plt.show()"
      ]
    },
    {
      "cell_type": "markdown",
      "id": "3288957c",
      "metadata": {
        "id": "3288957c"
      },
      "source": [
        "You will probably encounter that the model is overfitting, which means that it is doing a great job at classifying the images in the training set but struggles with new data. This is perfectly fine and you will learn how to mitigate this issue in the upcoming week.\n",
        "\n",
        "Before downloading this notebook and closing the assignment, be sure to also download the `history.pkl` file which contains the information of the training history of your model. You can download this file by running the cell below:"
      ]
    },
    {
      "cell_type": "markdown",
      "id": "f5cc8c73",
      "metadata": {
        "id": "f5cc8c73"
      },
      "source": [
        "## Download your notebook for grading\n",
        "\n",
        "Along with the `history.pkl` file, you will also need to submit your solution notebook for grading. The following code cells will check if this notebook's grader metadata (i.e. hidden data in the notebook needed for grading) is not modified by your workspace. This will ensure that the autograder can evaluate your code properly. Depending on its output, you will either:\n",
        "\n",
        "* *if the metadata is intact*: Download the current notebook. Click on the File tab on the upper left corner of the screen then click on `Download -> Download .ipynb.` You can name it anything you want as long as it is a valid `.ipynb` (jupyter notebook) file.\n",
        "<br>\n",
        "\n",
        "* *if the metadata is missing*: A new notebook with your solutions will be created on this Colab workspace. It should be downloaded automatically and you can submit that to the grader."
      ]
    },
    {
      "cell_type": "code",
      "execution_count": 14,
      "id": "e90ed34a",
      "metadata": {
        "colab": {
          "base_uri": "https://localhost:8080/"
        },
        "id": "e90ed34a",
        "outputId": "316f241f-caf9-42f4-a189-3f3e05e62fc4"
      },
      "outputs": [],
      "source": [
        "!rm -rf ./data"
      ]
    },
    {
      "cell_type": "markdown",
      "id": "24c4d4df",
      "metadata": {
        "id": "24c4d4df"
      },
      "source": [
        "**Please disregard the following note if the notebook metadata is detected**\n",
        "\n",
        "_Note: Just in case the download fails for the second point above, you can also do these steps:_\n",
        "* _Click the Folder icon on the left side of this screen to open the File Manager._\n",
        "* _Click the Folder Refresh icon in the File Manager to see the latest files in the workspace. You should see a file ending with a `_fixed.ipynb`._\n",
        "* _Right-click on that file to save locally and submit it to the grader._"
      ]
    },
    {
      "cell_type": "markdown",
      "id": "e8787d3a",
      "metadata": {
        "id": "e8787d3a"
      },
      "source": [
        "**Congratulations on finishing this week's assignment!**\n",
        "\n",
        "You have successfully implemented a convolutional neural network that classifies images of cats and dogs, along with the helper functions needed to pre-process the images!\n",
        "\n",
        "**Keep it up!**"
      ]
    }
  ],
  "metadata": {
    "accelerator": "GPU",
    "colab": {
      "provenance": []
    },
    "kernelspec": {
      "display_name": "Python 3",
      "language": "python",
      "name": "python3"
    },
    "language_info": {
      "codemirror_mode": {
        "name": "ipython",
        "version": 3
      },
      "file_extension": ".py",
      "mimetype": "text/x-python",
      "name": "python",
      "nbconvert_exporter": "python",
      "pygments_lexer": "ipython3",
      "version": "3.11.9"
    }
  },
  "nbformat": 4,
  "nbformat_minor": 5
}
